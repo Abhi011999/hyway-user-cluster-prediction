{
 "cells": [
  {
   "cell_type": "code",
   "execution_count": 7,
   "metadata": {},
   "outputs": [],
   "source": [
    "import pandas as pd\n",
    "import numpy as np\n",
    "from apyori import apriori"
   ]
  },
  {
   "cell_type": "code",
   "execution_count": 15,
   "metadata": {},
   "outputs": [],
   "source": [
    "# Read the data into a pandas dataframe\n",
    "data = pd.read_csv('time_logs.csv')"
   ]
  },
  {
   "cell_type": "code",
   "execution_count": 16,
   "metadata": {},
   "outputs": [
    {
     "data": {
      "text/html": [
       "<div>\n",
       "<style scoped>\n",
       "    .dataframe tbody tr th:only-of-type {\n",
       "        vertical-align: middle;\n",
       "    }\n",
       "\n",
       "    .dataframe tbody tr th {\n",
       "        vertical-align: top;\n",
       "    }\n",
       "\n",
       "    .dataframe thead th {\n",
       "        text-align: right;\n",
       "    }\n",
       "</style>\n",
       "<table border=\"1\" class=\"dataframe\">\n",
       "  <thead>\n",
       "    <tr style=\"text-align: right;\">\n",
       "      <th></th>\n",
       "      <th>timestamp</th>\n",
       "      <th>action</th>\n",
       "      <th>cluster</th>\n",
       "      <th>user</th>\n",
       "      <th>cluster_id</th>\n",
       "    </tr>\n",
       "  </thead>\n",
       "  <tbody>\n",
       "    <tr>\n",
       "      <th>0</th>\n",
       "      <td>2023-05-11T06:55:58.870Z</td>\n",
       "      <td>userExitedCluster</td>\n",
       "      <td>HallWay</td>\n",
       "      <td>8:acs:c8b24614-e4fc-46fd-bf85-ea8a575f9e26_000...</td>\n",
       "      <td>0</td>\n",
       "    </tr>\n",
       "    <tr>\n",
       "      <th>1</th>\n",
       "      <td>2023-05-11T06:55:58.949Z</td>\n",
       "      <td>userEnteredCluster</td>\n",
       "      <td>Virtual-Chat</td>\n",
       "      <td>8:acs:c8b24614-e4fc-46fd-bf85-ea8a575f9e26_000...</td>\n",
       "      <td>1</td>\n",
       "    </tr>\n",
       "    <tr>\n",
       "      <th>2</th>\n",
       "      <td>2023-05-11T06:56:00.732Z</td>\n",
       "      <td>userExitedCluster</td>\n",
       "      <td>Virtual-Chat</td>\n",
       "      <td>8:acs:c8b24614-e4fc-46fd-bf85-ea8a575f9e26_000...</td>\n",
       "      <td>1</td>\n",
       "    </tr>\n",
       "    <tr>\n",
       "      <th>3</th>\n",
       "      <td>2023-05-11T06:56:00.781Z</td>\n",
       "      <td>userEnteredCluster</td>\n",
       "      <td>HallWay</td>\n",
       "      <td>8:acs:c8b24614-e4fc-46fd-bf85-ea8a575f9e26_000...</td>\n",
       "      <td>0</td>\n",
       "    </tr>\n",
       "    <tr>\n",
       "      <th>4</th>\n",
       "      <td>2023-05-11T06:56:04.898Z</td>\n",
       "      <td>userExitedCluster</td>\n",
       "      <td>HallWay</td>\n",
       "      <td>8:acs:c8b24614-e4fc-46fd-bf85-ea8a575f9e26_000...</td>\n",
       "      <td>0</td>\n",
       "    </tr>\n",
       "    <tr>\n",
       "      <th>5</th>\n",
       "      <td>2023-05-11T06:56:05.016Z</td>\n",
       "      <td>userEnteredCluster</td>\n",
       "      <td>STAIRWAY</td>\n",
       "      <td>8:acs:c8b24614-e4fc-46fd-bf85-ea8a575f9e26_000...</td>\n",
       "      <td>5</td>\n",
       "    </tr>\n",
       "    <tr>\n",
       "      <th>6</th>\n",
       "      <td>2023-05-11T06:56:07.217Z</td>\n",
       "      <td>userExitedCluster</td>\n",
       "      <td>STAIRWAY</td>\n",
       "      <td>8:acs:c8b24614-e4fc-46fd-bf85-ea8a575f9e26_000...</td>\n",
       "      <td>5</td>\n",
       "    </tr>\n",
       "    <tr>\n",
       "      <th>7</th>\n",
       "      <td>2023-05-11T06:56:07.294Z</td>\n",
       "      <td>userEnteredCluster</td>\n",
       "      <td>HallWay</td>\n",
       "      <td>8:acs:c8b24614-e4fc-46fd-bf85-ea8a575f9e26_000...</td>\n",
       "      <td>0</td>\n",
       "    </tr>\n",
       "  </tbody>\n",
       "</table>\n",
       "</div>"
      ],
      "text/plain": [
       "                  timestamp              action       cluster   \n",
       "0  2023-05-11T06:55:58.870Z   userExitedCluster       HallWay  \\\n",
       "1  2023-05-11T06:55:58.949Z  userEnteredCluster  Virtual-Chat   \n",
       "2  2023-05-11T06:56:00.732Z   userExitedCluster  Virtual-Chat   \n",
       "3  2023-05-11T06:56:00.781Z  userEnteredCluster       HallWay   \n",
       "4  2023-05-11T06:56:04.898Z   userExitedCluster       HallWay   \n",
       "5  2023-05-11T06:56:05.016Z  userEnteredCluster      STAIRWAY   \n",
       "6  2023-05-11T06:56:07.217Z   userExitedCluster      STAIRWAY   \n",
       "7  2023-05-11T06:56:07.294Z  userEnteredCluster       HallWay   \n",
       "\n",
       "                                                user  cluster_id  \n",
       "0  8:acs:c8b24614-e4fc-46fd-bf85-ea8a575f9e26_000...           0  \n",
       "1  8:acs:c8b24614-e4fc-46fd-bf85-ea8a575f9e26_000...           1  \n",
       "2  8:acs:c8b24614-e4fc-46fd-bf85-ea8a575f9e26_000...           1  \n",
       "3  8:acs:c8b24614-e4fc-46fd-bf85-ea8a575f9e26_000...           0  \n",
       "4  8:acs:c8b24614-e4fc-46fd-bf85-ea8a575f9e26_000...           0  \n",
       "5  8:acs:c8b24614-e4fc-46fd-bf85-ea8a575f9e26_000...           5  \n",
       "6  8:acs:c8b24614-e4fc-46fd-bf85-ea8a575f9e26_000...           5  \n",
       "7  8:acs:c8b24614-e4fc-46fd-bf85-ea8a575f9e26_000...           0  "
      ]
     },
     "execution_count": 16,
     "metadata": {},
     "output_type": "execute_result"
    }
   ],
   "source": [
    "data"
   ]
  },
  {
   "cell_type": "code",
   "execution_count": 44,
   "metadata": {},
   "outputs": [],
   "source": [
    "# Convert the timestamp column to a datetime format\n",
    "data['timestamp'] = pd.to_datetime(data['timestamp'], utc=True, format=\"ISO8601\")\n",
    "\n",
    "# Extract the hour of the day from the timestamp column\n",
    "data['seconds'] = data['timestamp'].dt.second\n",
    "\n",
    "# Create a pivot table with users as rows and clusters as columns, and count the number of times each user visited each cluster\n",
    "pivot_table = pd.pivot_table(data, values='timestamp', index='user', columns='cluster', aggfunc='count', fill_value=0)\n",
    "\n",
    "# Convert the pivot table to a numpy array\n",
    "dataset = np.array(pivot_table)"
   ]
  },
  {
   "cell_type": "code",
   "execution_count": 45,
   "metadata": {},
   "outputs": [
    {
     "data": {
      "text/plain": [
       "array([[4, 2, 2]])"
      ]
     },
     "execution_count": 45,
     "metadata": {},
     "output_type": "execute_result"
    }
   ],
   "source": [
    "dataset"
   ]
  },
  {
   "cell_type": "code",
   "execution_count": 46,
   "metadata": {},
   "outputs": [],
   "source": [
    "# Run the apriori algorithm on the dataset\n",
    "results = list(apriori(dataset, min_support=0.1, min_confidence=0.1))"
   ]
  },
  {
   "cell_type": "code",
   "execution_count": 47,
   "metadata": {},
   "outputs": [
    {
     "data": {
      "text/plain": [
       "[RelationRecord(items=frozenset({2}), support=1.0, ordered_statistics=[OrderedStatistic(items_base=frozenset(), items_add=frozenset({2}), confidence=1.0, lift=1.0)]),\n",
       " RelationRecord(items=frozenset({4}), support=1.0, ordered_statistics=[OrderedStatistic(items_base=frozenset(), items_add=frozenset({4}), confidence=1.0, lift=1.0)]),\n",
       " RelationRecord(items=frozenset({2, 4}), support=1.0, ordered_statistics=[OrderedStatistic(items_base=frozenset(), items_add=frozenset({2, 4}), confidence=1.0, lift=1.0), OrderedStatistic(items_base=frozenset({2}), items_add=frozenset({4}), confidence=1.0, lift=1.0), OrderedStatistic(items_base=frozenset({4}), items_add=frozenset({2}), confidence=1.0, lift=1.0)])]"
      ]
     },
     "execution_count": 47,
     "metadata": {},
     "output_type": "execute_result"
    }
   ],
   "source": [
    "results"
   ]
  },
  {
   "cell_type": "code",
   "execution_count": 48,
   "metadata": {},
   "outputs": [
    {
     "name": "stdout",
     "output_type": "stream",
     "text": [
      "Rule: frozenset({2}) -> 1.0\n",
      "Support: 1.0\n",
      "Confidence: 1.0\n",
      "Lift: 1.0\n",
      "\n",
      "Rule: frozenset({4}) -> 1.0\n",
      "Support: 1.0\n",
      "Confidence: 1.0\n",
      "Lift: 1.0\n",
      "\n",
      "Rule: frozenset({2, 4}) -> 1.0\n",
      "Support: 1.0\n",
      "Confidence: 1.0\n",
      "Lift: 1.0\n",
      "Confidence: 1.0\n",
      "Lift: 1.0\n",
      "Confidence: 1.0\n",
      "Lift: 1.0\n",
      "\n"
     ]
    }
   ],
   "source": [
    "# Print the association rules and their confidence scores\n",
    "for rule in results:\n",
    "    print(\"Rule:\", rule[0], \"->\", rule[1])\n",
    "    print(\"Support:\", rule[1])\n",
    "    for stat in rule[2]:\n",
    "        print(\"Confidence:\", stat.confidence)\n",
    "        print(\"Lift:\", stat.lift)\n",
    "    print()"
   ]
  }
 ],
 "metadata": {
  "kernelspec": {
   "display_name": ".venv",
   "language": "python",
   "name": "python3"
  },
  "language_info": {
   "codemirror_mode": {
    "name": "ipython",
    "version": 3
   },
   "file_extension": ".py",
   "mimetype": "text/x-python",
   "name": "python",
   "nbconvert_exporter": "python",
   "pygments_lexer": "ipython3",
   "version": "3.11.3"
  },
  "orig_nbformat": 4
 },
 "nbformat": 4,
 "nbformat_minor": 2
}
